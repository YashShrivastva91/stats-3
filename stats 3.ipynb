{
 "cells": [
  {
   "cell_type": "raw",
   "id": "a5fa940a-1a69-4a59-834c-88fabf30adb7",
   "metadata": {},
   "source": [
    "Question 1: Define the z-statistic and explain its relationship to the standard normal distribution. How is the z-statistic used in hypothesis testing?\n",
    "Z-statistic is a measure of how many standard deviations a data point is from the population mean. It's calculated as:\n",
    "\n",
    "𝑧 =(𝑋−𝜇)/𝜎\n",
    "Where:\n",
    "•\tX is the data point.\n",
    "•\tμ is the population mean.\n",
    "•\tσ is the population standard deviation.\n",
    "In the standard normal distribution, the mean is 0 and the standard deviation is 1. A z-score tells us the position of a value relative to the mean, making it easier to compare different distributions.\n",
    "In hypothesis testing, the z-statistic helps determine how extreme the sample mean is compared to the null hypothesis. If the z-score is extreme, the null hypothesis may be rejected.\n"
   ]
  },
  {
   "cell_type": "raw",
   "id": "578d0301-63b7-4f7d-ae02-c3e2cdf77dd2",
   "metadata": {},
   "source": [
    "Question 2: What is a p-value, and how is it used in hypothesis testing? What does it mean if the p-value is very small (e.g., 0.01)?\n",
    "Ans -- A p-value measures the probability of obtaining a test statistic at least as extreme as the one observed, assuming the null hypothesis is true.\n",
    "\n",
    "If the p-value is small (e.g., 0.01), it indicates strong evidence against the null hypothesis, suggesting that the observed result is unlikely to have occurred under the null hypothesis. Typically, a p-value below 0.05 leads to rejection of the null hypothesis.\n"
   ]
  },
  {
   "cell_type": "raw",
   "id": "29df5e38-6a20-4e48-850d-fbab20246f88",
   "metadata": {},
   "source": [
    "Question 3: Compare and contrast the binomial and Bernoulli distributions.\n",
    "Bernoulli Distribution: Represents a single trial with two outcomes (success or failure). The probability of success is \n",
    "𝑝 and failure is 1−p.\n",
    "\n",
    "Binomial Distribution: Represents the sum of several independent Bernoulli trials. If there are n trials, the binomial distribution counts the number of successes. It is defined by two parameters: number of trials n, and probability of success p.\n",
    "\n",
    "In essence, the binomial distribution is a generalization of the Bernoulli distribution for multiple trials."
   ]
  },
  {
   "cell_type": "raw",
   "id": "356310ae-5c85-4843-bd5a-ac1443d4246e",
   "metadata": {},
   "source": [
    "Question 4: Under what conditions is the binomial distribution used, and how does it relate to the Bernoulli distribution?\n",
    "The binomial distribution is used when:\n",
    "\n",
    "There are a fixed number of independent trials (n).\n",
    "Each trial has only two possible outcomes: success or failure.\n",
    "The probability of success (p) is the same for each trial.\n",
    "The binomial distribution is the sum of several Bernoulli trials, where each trial follows a Bernoulli distribution."
   ]
  },
  {
   "cell_type": "raw",
   "id": "52263c6f-2de5-42eb-a0f2-c11bb4ecf508",
   "metadata": {},
   "source": [
    "Question 5: What are the key properties of the Poisson distribution, and when is it appropriate to use this distribution?\n",
    "The Poisson distribution is used to model the number of events that occur within a fixed interval of time or space. It is characterized by the parameter λ (average rate of events).\n",
    "\n",
    "Key properties:\n",
    "\n",
    "The number of events in non-overlapping intervals is independent.\n",
    "The probability of exactly one event happening in a small interval is proportional to the length of the interval.\n",
    "It is used when events occur randomly and independently over time or space (e.g., customer arrivals at a store)."
   ]
  },
  {
   "cell_type": "raw",
   "id": "0b5543aa-d09e-4bb3-9660-5d092d41720f",
   "metadata": {},
   "source": [
    "Question 6: Define the terms \"probability distribution\" and \"probability density function\" (PDF). How does a PDF differ from a probability mass function (PMF)?\n",
    "A probability distribution describes how probabilities are distributed over different outcomes.\n",
    "\n",
    "A Probability Density Function (PDF) describes the likelihood of a continuous random variable taking on a particular value. The area under the curve of the PDF between two points gives the probability.\n",
    "\n",
    "A Probability Mass Function (PMF), on the other hand, is used for discrete random variables, assigning probabilities to individual outcomes."
   ]
  },
  {
   "cell_type": "raw",
   "id": "4eaff822-b689-4351-9d23-21c55b0ff914",
   "metadata": {},
   "source": [
    "Question 7: Explain the Central Limit Theorem (CLT) with an example.\n",
    "The Central Limit Theorem (CLT) states that, regardless of the original distribution of a population, the sampling distribution of the sample mean will approximate a normal distribution as the sample size increases (typically n>30).\n",
    "Example: If you take repeated samples of size 50 from a population of customer ages that are not normally distributed, the mean of those samples will form a distribution that approximates normality."
   ]
  },
  {
   "cell_type": "raw",
   "id": "062b6aaf-2748-492a-a832-38c1bbb94c3c",
   "metadata": {},
   "source": [
    "Question 8: Compare z-scores and t-scores. When should you use a z-score, and when should a t-score be applied instead?\n",
    "Z-scores are used when the population standard deviation is known and the sample size is large (typically n>30).\n",
    "\n",
    "T-scores are used when the population standard deviation is unknown, especially for smaller samples (n≤30)."
   ]
  },
  {
   "cell_type": "code",
   "execution_count": 1,
   "id": "667348f2-189a-4638-8565-1bf9974eb250",
   "metadata": {},
   "outputs": [
    {
     "data": {
      "text/plain": [
       "(1.6666666666666667, np.float64(0.047790352272814696))"
      ]
     },
     "execution_count": 1,
     "metadata": {},
     "output_type": "execute_result"
    }
   ],
   "source": [
    "## Question 9: Given a sample mean of 105, a population mean of 100, a standard deviation of 15, and a sample size of 25, calculate the \n",
    "## z-score and p-value. Based on a significance level of 0.05, do you reject or fail to reject the null hypothesis?\n",
    "import scipy.stats as stats\n",
    "\n",
    "# Given values\n",
    "sample_mean = 105\n",
    "population_mean = 100\n",
    "std_dev = 15\n",
    "sample_size = 25\n",
    "\n",
    "# Z-score calculation\n",
    "z = (sample_mean - population_mean) / (std_dev / (sample_size ** 0.5))\n",
    "\n",
    "# P-value calculation\n",
    "p_value = 1 - stats.norm.cdf(z)  # for a one-tailed test\n",
    "\n",
    "z, p_value\n",
    "\n",
    "## You can reject the null hypothesis if the p-value is less than 0.05.\n",
    "\n",
    "\n"
   ]
  },
  {
   "cell_type": "code",
   "execution_count": 6,
   "id": "6628651c-9b83-4b8b-8083-78041d5f6e8c",
   "metadata": {},
   "outputs": [
    {
     "data": {
      "image/png": "[encoded data removed]",
      "text/plain": [
       "<Figure size 640x480 with 1 Axes>"
      ]
     },
     "metadata": {},
     "output_type": "display_data"
    },
    {
     "data": {
      "text/plain": [
       "(np.float64(6.04), np.float64(2.3124000000000007))"
      ]
     },
     "execution_count": 6,
     "metadata": {},
     "output_type": "execute_result"
    }
   ],
   "source": [
    "\"\"\"Question 10: Simulate a binomial distribution with 10 trials and a probability of success of 0.6 using Python.\n",
    "Generate 1,000 samples and plot the distribution. What is the expected mean and variance?\"\"\"\n",
    "\"\"\"Here’s how to simulate and plot the binomial distribution in Python:\"\"\"\n",
    "import numpy as np\n",
    "import matplotlib.pyplot as plt\n",
    "\n",
    "# Simulate binomial distribution\n",
    "n_trials = 10\n",
    "p_success = 0.6\n",
    "samples = np.random.binomial(n_trials, p_success, 1000)\n",
    "\n",
    "# Calculate mean and variance\n",
    "mean = np.mean(samples)\n",
    "variance = np.var(samples)\n",
    "\n",
    "# Plot the distribution\n",
    "plt.hist(samples, bins=range(n_trials+2), edgecolor='k', alpha=0.7)\n",
    "plt.title('Binomial Distribution')\n",
    "plt.xlabel('Number of Successes')\n",
    "plt.ylabel('Frequency')\n",
    "plt.show()\n",
    "\n",
    "mean, variance\n"
   ]
  },
  {
   "cell_type": "code",
   "execution_count": 5,
   "id": "1a82ad37-085c-48c4-89ff-7bf823b67390",
   "metadata": {},
   "outputs": [
    {
     "name": "stdout",
     "output_type": "stream",
     "text": [
      "Collecting matplotlib\n",
      "  Downloading matplotlib-3.9.2-cp313-cp313-win_amd64.whl.metadata (11 kB)\n",
      "Collecting contourpy>=1.0.1 (from matplotlib)\n",
      "  Downloading contourpy-1.3.0-cp313-cp313-win_amd64.whl.metadata (5.4 kB)\n",
      "Collecting cycler>=0.10 (from matplotlib)\n",
      "  Downloading cycler-0.12.1-py3-none-any.whl.metadata (3.8 kB)\n",
      "Collecting fonttools>=4.22.0 (from matplotlib)\n",
      "  Downloading fonttools-4.54.1-cp313-cp313-win_amd64.whl.metadata (167 kB)\n",
      "Collecting kiwisolver>=1.3.1 (from matplotlib)\n",
      "  Downloading kiwisolver-1.4.7-cp313-cp313-win_amd64.whl.metadata (6.4 kB)\n",
      "Requirement already satisfied: numpy>=1.23 in c:\\users\\shriy\\appdata\\local\\programs\\python\\python313\\lib\\site-packages (from matplotlib) (2.1.2)\n",
      "Requirement already satisfied: packaging>=20.0 in c:\\users\\shriy\\appdata\\local\\programs\\python\\python313\\lib\\site-packages (from matplotlib) (24.1)\n",
      "Collecting pillow>=8 (from matplotlib)\n",
      "  Downloading pillow-11.0.0-cp313-cp313-win_amd64.whl.metadata (9.3 kB)\n",
      "Collecting pyparsing>=2.3.1 (from matplotlib)\n",
      "  Downloading pyparsing-3.2.0-py3-none-any.whl.metadata (5.0 kB)\n",
      "Requirement already satisfied: python-dateutil>=2.7 in c:\\users\\shriy\\appdata\\local\\programs\\python\\python313\\lib\\site-packages (from matplotlib) (2.9.0.post0)\n",
      "Requirement already satisfied: six>=1.5 in c:\\users\\shriy\\appdata\\local\\programs\\python\\python313\\lib\\site-packages (from python-dateutil>=2.7->matplotlib) (1.16.0)\n",
      "Downloading matplotlib-3.9.2-cp313-cp313-win_amd64.whl (7.8 MB)\n",
      "   ---------------------------------------- 0.0/7.8 MB ? eta -:--:--\n",
      "   ------ --------------------------------- 1.3/7.8 MB 6.9 MB/s eta 0:00:01\n",
      "   ----------------- ---------------------- 3.4/7.8 MB 8.2 MB/s eta 0:00:01\n",
      "   -------------------------------- ------- 6.3/7.8 MB 10.2 MB/s eta 0:00:01\n",
      "   ---------------------------------------- 7.8/7.8 MB 10.0 MB/s eta 0:00:00\n",
      "Downloading contourpy-1.3.0-cp313-cp313-win_amd64.whl (218 kB)\n",
      "Downloading cycler-0.12.1-py3-none-any.whl (8.3 kB)\n",
      "Downloading fonttools-4.54.1-cp313-cp313-win_amd64.whl (2.2 MB)\n",
      "   ---------------------------------------- 0.0/2.2 MB ? eta -:--:--\n",
      "   --------- ------------------------------ 0.5/2.2 MB 39.7 MB/s eta 0:00:01\n",
      "   ---------------------------------------- 2.2/2.2 MB 11.8 MB/s eta 0:00:00\n",
      "Downloading kiwisolver-1.4.7-cp313-cp313-win_amd64.whl (55 kB)\n",
      "Downloading pillow-11.0.0-cp313-cp313-win_amd64.whl (2.6 MB)\n",
      "   ---------------------------------------- 0.0/2.6 MB ? eta -:--:--\n",
      "   ---------------------------------------- 2.6/2.6 MB 15.4 MB/s eta 0:00:00\n",
      "Downloading pyparsing-3.2.0-py3-none-any.whl (106 kB)\n",
      "Installing collected packages: pyparsing, pillow, kiwisolver, fonttools, cycler, contourpy, matplotlib\n",
      "Successfully installed contourpy-1.3.0 cycler-0.12.1 fonttools-4.54.1 kiwisolver-1.4.7 matplotlib-3.9.2 pillow-11.0.0 pyparsing-3.2.0\n",
      "Note: you may need to restart the kernel to use updated packages.\n"
     ]
    }
   ],
   "source": [
    "pip install matplotlib"
   ]
  },
  {
   "cell_type": "code",
   "execution_count": null,
   "id": "068c9306-aa71-4e70-a588-bff1503006cc",
   "metadata": {},
   "outputs": [],
   "source": []
  }
 ],
 "metadata": {
  "kernelspec": {
   "display_name": "Python 3 (ipykernel)",
   "language": "python",
   "name": "python3"
  },
  "language_info": {
   "codemirror_mode": {
    "name": "ipython",
    "version": 3
   },
   "file_extension": ".py",
   "mimetype": "text/x-python",
   "name": "python",
   "nbconvert_exporter": "python",
   "pygments_lexer": "ipython3",
   "version": "3.13.0"
  }
 },
 "nbformat": 4,
 "nbformat_minor": 5
}
